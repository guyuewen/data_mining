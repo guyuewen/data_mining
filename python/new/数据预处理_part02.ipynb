{
 "cells": [
  {
   "cell_type": "markdown",
   "metadata": {},
   "source": [
    "**Python 主要数据预处理函数**\n",
    "\n",
    "|函数名|函数功能|所属库|\n",
    "|:-:|:-:|:-:|\n",
    "|interpolate|一维、高维数据插值|Scipy|\n",
    "|unique|去除数据中的重复元素，得到单值元素列表，它是对象的方法名|Pandas/Numpy|\n",
    "|isnull|判断是否空值|Pandas|\n",
    "|notnull|判断是否非空值|Pandas|\n",
    "|PCA|对指标变量矩阵进行主成分分析|Scikit-Learn|\n",
    "|random|生成随机矩阵|Numpy|"
   ]
  },
  {
   "cell_type": "code",
   "execution_count": null,
   "metadata": {
    "collapsed": true
   },
   "outputs": [],
   "source": []
  },
  {
   "cell_type": "code",
   "execution_count": null,
   "metadata": {
    "collapsed": true
   },
   "outputs": [],
   "source": []
  },
  {
   "cell_type": "code",
   "execution_count": null,
   "metadata": {
    "collapsed": true
   },
   "outputs": [],
   "source": []
  }
 ],
 "metadata": {
  "kernelspec": {
   "display_name": "Python 3",
   "language": "python",
   "name": "python3"
  },
  "language_info": {
   "codemirror_mode": {
    "name": "ipython",
    "version": 3
   },
   "file_extension": ".py",
   "mimetype": "text/x-python",
   "name": "python",
   "nbconvert_exporter": "python",
   "pygments_lexer": "ipython3",
   "version": "3.5.4"
  }
 },
 "nbformat": 4,
 "nbformat_minor": 2
}
